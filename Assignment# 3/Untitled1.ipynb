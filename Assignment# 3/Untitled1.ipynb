{
 "cells": [
  {
   "cell_type": "code",
   "execution_count": 1,
   "id": "c3641630",
   "metadata": {},
   "outputs": [
    {
     "name": "stdout",
     "output_type": "stream",
     "text": [
      "Twinkle, twinkle, little star, \n",
      "\tHow I wonder what you are! \n",
      "\t\tUp above the world so high, \n",
      "\t\tLike a diamond in the sky. \n",
      "Twinkle, twinkle, little star, \n",
      "\tHow I wonder what you are\n"
     ]
    }
   ],
   "source": [
    "#Write a Python program to print the following string in a specific format (see the output).\n",
    "#Twinkle, twinkle, little star,\n",
    "#How I wonder what you are!\n",
    "#Up above the world so high,\n",
    "#Like a diamond in the sky.\n",
    "#Twinkle, twinkle, little star,\n",
    "#How I wonder what you are\n",
    "print(\"Twinkle, twinkle, little star, \\n\\tHow I wonder what you are! \\n\\t\\tUp above the world so high, \\n\\t\\tLike a diamond in the sky. \\nTwinkle, twinkle, little star, \\n\\tHow I wonder what you are\") "
   ]
  },
  {
   "cell_type": "code",
   "execution_count": 2,
   "id": "e54bfdfd",
   "metadata": {},
   "outputs": [
    {
     "name": "stdout",
     "output_type": "stream",
     "text": [
      "Python Version\n",
      "3.8.8 (default, Apr 13 2021, 15:08:03) [MSC v.1916 64 bit (AMD64)]\n",
      "Version Info\n",
      "sys.version_info(major=3, minor=8, micro=8, releaselevel='final', serial=0)\n"
     ]
    }
   ],
   "source": [
    "#Write a Python program to get the Python version you are using\n",
    "import sys\n",
    "print(\"Python Version\")\n",
    "print(sys.version)\n",
    "print(\"Version Info\")\n",
    "print(sys.version_info)"
   ]
  },
  {
   "cell_type": "code",
   "execution_count": 3,
   "id": "cb6ffded",
   "metadata": {},
   "outputs": [
    {
     "name": "stdout",
     "output_type": "stream",
     "text": [
      "Current date and time : \n",
      "2021-10-22 19:09:33\n"
     ]
    }
   ],
   "source": [
    "#Write a Python program to display the current date and time.\n",
    "import datetime\n",
    "now = datetime.datetime.now()\n",
    "print (\"Current date and time : \")\n",
    "print (now.strftime(\"%Y-%m-%d %H:%M:%S\"))"
   ]
  },
  {
   "cell_type": "code",
   "execution_count": 4,
   "id": "3bfbe6a7",
   "metadata": {},
   "outputs": [
    {
     "name": "stdout",
     "output_type": "stream",
     "text": [
      "Enter Radius Of Circle: 2.2\n",
      "Area Of Circle: 15.205308443374602\n"
     ]
    }
   ],
   "source": [
    "#Write a Python program which accepts the radius of a circle from the user and compute\n",
    "the area.\n",
    "from math import pi\n",
    "radius = float(input(\"Enter Radius Of Circle: \"));\n",
    "area = pi * radius**2;\n",
    "print(\"Area Of Circle: \" + str(area));"
   ]
  },
  {
   "cell_type": "code",
   "execution_count": 5,
   "id": "7f0bcb18",
   "metadata": {},
   "outputs": [
    {
     "name": "stdout",
     "output_type": "stream",
     "text": [
      "Enter First Name : Mohammad Saad\n",
      "Enter Last Name : Khan\n",
      "Khan Mohammad Saad\n"
     ]
    }
   ],
   "source": [
    "#Write a Python program which accepts the user's first and last name and print them in\n",
    "reverse order with a space between them.\n",
    "firstname = input(\"Enter First Name : \");\n",
    "lastname = input(\"Enter Last Name : \");\n",
    "print (lastname + \" \" + firstname);"
   ]
  },
  {
   "cell_type": "code",
   "execution_count": 6,
   "id": "82e1e0bb",
   "metadata": {},
   "outputs": [
    {
     "name": "stdout",
     "output_type": "stream",
     "text": [
      "Enter a Number: 5\n",
      "Enter a Number: 2\n",
      "7\n"
     ]
    }
   ],
   "source": [
    "#Write a python program which takes two inputs from user and print them addition\n",
    "a = int(input(\"Enter a Number: \"))\n",
    "b = int(input(\"Enter a Number: \"))\n",
    "c = a + b;\n",
    "print(c)"
   ]
  },
  {
   "cell_type": "code",
   "execution_count": 19,
   "id": "5f992723",
   "metadata": {},
   "outputs": [
    {
     "name": "stdout",
     "output_type": "stream",
     "text": [
      "Enter your Maths Marks: 88\n",
      "Enter your English Marks: 91\n",
      "Enter your Urdu Marks: 71\n",
      "Enter your Science Marks: 80\n",
      "Enter your History Marks: 89\n",
      "========= Result =========\n",
      "Total Marks Obtain = 419\n",
      "Percentage = 83.8\n",
      "You Have Obtain Grade A+\n"
     ]
    }
   ],
   "source": [
    "#Write a program which takes 5 inputs from user for different subject’s marks, total it and generate mark sheet using grades ?\n",
    "maths = int(input(\"Enter your Maths Marks: \"))\n",
    "eng = int(input(\"Enter your English Marks: \"))\n",
    "urdu = int(input(\"Enter your Urdu Marks: \"))\n",
    "sci = int(input(\"Enter your Science Marks: \"))\n",
    "his = int(input(\"Enter your History Marks: \"))\n",
    "total_marks = 500;\n",
    "obtain_total = (maths + eng + urdu + sci + his);\n",
    "print(\"========= Result =========\");\n",
    "print(\"Total Marks Obtain = \" + str(obtain_total));\n",
    "per = float((obtain_total / total_marks) * 100);\n",
    "print(\"Percentage = \" + str(per));\n",
    "if (per < 100 and per >= 80):\n",
    "    print(\"You Have Obtain Grade A+\");\n",
    "elif (per < 80 and per >= 70):\n",
    "    print(\"You Have Obtain Grade A\");\n",
    "elif (per < 70 and per >= 60):\n",
    "    print(\"You Have Obtain Grade B\");\n",
    "elif (per < 60 and per >= 50):\n",
    "    print(\"You Have Obtain Grade C\");\n",
    "elif (per < 50 and per >= 45):\n",
    "    print(\"You Have Obtain Grade D\");\n",
    "elif (per < 45):\n",
    "    print(\"Failed!!!\");\n",
    "elif (per > 100 or per < 0):\n",
    "    print(\"Wrong Command\");\n",
    "else:\n",
    "    print(\"Bye\");"
   ]
  },
  {
   "cell_type": "code",
   "execution_count": 20,
   "id": "f8462ef1",
   "metadata": {},
   "outputs": [
    {
     "name": "stdout",
     "output_type": "stream",
     "text": [
      "Enter a Number: 15\n",
      "Number Is Odd\n"
     ]
    }
   ],
   "source": [
    "#Write a program which take input from user and identify that the given number is even or odd?\n",
    "n = int(input(\"Enter a Number: \"))\n",
    "cal = n % 2;\n",
    "if cal > 0:\n",
    "    print(\"Number Is Odd\")\n",
    "else:\n",
    "    print(\"Number Is Even\")"
   ]
  },
  {
   "cell_type": "code",
   "execution_count": 21,
   "id": "f58745dd",
   "metadata": {},
   "outputs": [
    {
     "name": "stdout",
     "output_type": "stream",
     "text": [
      "The length of list is:  5\n"
     ]
    }
   ],
   "source": [
    "#Write a program which print the length of the list?\n",
    "list = [ 1, 4, 5, 7, 8 ]\n",
    "print(\"The length of list is: \", len(list))"
   ]
  },
  {
   "cell_type": "code",
   "execution_count": 29,
   "id": "fd2f74cd",
   "metadata": {},
   "outputs": [
    {
     "name": "stdout",
     "output_type": "stream",
     "text": [
      "Sum of all Elements:  25\n"
     ]
    }
   ],
   "source": [
    "#Write a Python program to sum all the numeric items in a list?\n",
    "list = [ 1, 4, 5, 7, 8 ]\n",
    "total = sum(list)\n",
    "print(\"Sum of all Elements: \", total)"
   ]
  },
  {
   "cell_type": "code",
   "execution_count": 31,
   "id": "2ab15e61",
   "metadata": {},
   "outputs": [
    {
     "name": "stdout",
     "output_type": "stream",
     "text": [
      "Largest Element is =  8\n"
     ]
    }
   ],
   "source": [
    "#Write a Python program to get the largest number from a numeric list.\n",
    "list = [ 1, 4, 5, 7, 8 ]\n",
    "print(\"Largest Element is = \" , max(list))"
   ]
  },
  {
   "cell_type": "code",
   "execution_count": 34,
   "id": "356420af",
   "metadata": {},
   "outputs": [
    {
     "name": "stdout",
     "output_type": "stream",
     "text": [
      "Element Less Than 5 are: \n",
      "1\n",
      "1\n",
      "2\n",
      "3\n"
     ]
    }
   ],
   "source": [
    "#Take a list, say for example this one:\n",
    "#a = [1, 1, 2, 3, 5, 8, 13, 21, 34, 55, 89]\n",
    "#Write a program that prints out all the elements of the list that are less than 5.\n",
    "a = [1, 1, 2, 3, 5, 8, 13, 21, 34, 55, 89]\n",
    "print(\"Element Less Than 5 are: \")\n",
    "for i in a:\n",
    "    if i < 5:\n",
    "        print(i)"
   ]
  },
  {
   "cell_type": "code",
   "execution_count": null,
   "id": "ef9a8204",
   "metadata": {},
   "outputs": [],
   "source": []
  }
 ],
 "metadata": {
  "kernelspec": {
   "display_name": "Python 3",
   "language": "python",
   "name": "python3"
  },
  "language_info": {
   "codemirror_mode": {
    "name": "ipython",
    "version": 3
   },
   "file_extension": ".py",
   "mimetype": "text/x-python",
   "name": "python",
   "nbconvert_exporter": "python",
   "pygments_lexer": "ipython3",
   "version": "3.8.8"
  }
 },
 "nbformat": 4,
 "nbformat_minor": 5
}
